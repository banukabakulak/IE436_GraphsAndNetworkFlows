{
  "nbformat": 4,
  "nbformat_minor": 0,
  "metadata": {
    "colab": {
      "provenance": []
    },
    "kernelspec": {
      "name": "python3",
      "display_name": "Python 3"
    },
    "language_info": {
      "name": "python"
    }
  },
  "cells": [
    {
      "cell_type": "code",
      "execution_count": null,
      "metadata": {
        "colab": {
          "base_uri": "https://localhost:8080/"
        },
        "id": "4PreKX0ZmW3s",
        "outputId": "8eeea4eb-1d20-426e-e029-3117f8fe7d87"
      },
      "outputs": [
        {
          "output_type": "stream",
          "name": "stdout",
          "text": [
            "IE 436 SP for DAG Codes...\n"
          ]
        }
      ],
      "source": [
        "print(\"IE 436 SP for DAG Codes...\")"
      ]
    },
    {
      "cell_type": "code",
      "source": [
        "class Vertex:\n",
        "  def __init__(self, id):\n",
        "    self.id = id\n",
        "    self.pred = -1\n",
        "    self.order = -1\n",
        "    self.distance = -1\n",
        "\n",
        "    self.adjIn = []\n",
        "    self.adjOut = []\n"
      ],
      "metadata": {
        "id": "qAg8LrvRmsW7"
      },
      "execution_count": 29,
      "outputs": []
    },
    {
      "cell_type": "code",
      "source": [
        "class Arc:\n",
        "  def __init__(self, id, length):\n",
        "    self.id = id\n",
        "    self.length = length"
      ],
      "metadata": {
        "id": "jTgXnz1WnPbE"
      },
      "execution_count": 30,
      "outputs": []
    },
    {
      "cell_type": "code",
      "source": [
        "vertex = Vertex(3)\n",
        "print(vertex.id)\n",
        "arc = Arc(4, 6)\n",
        "print(arc.id, arc.length)"
      ],
      "metadata": {
        "colab": {
          "base_uri": "https://localhost:8080/"
        },
        "id": "CfU3VjFlnId1",
        "outputId": "401529c8-6bf0-4d4e-ee9d-bc797e97bd98"
      },
      "execution_count": 31,
      "outputs": [
        {
          "output_type": "stream",
          "name": "stdout",
          "text": [
            "3\n",
            "4 6\n"
          ]
        }
      ]
    },
    {
      "cell_type": "code",
      "source": [
        "SIZE = 6\n",
        "vertices = [Vertex(i) for i in range(SIZE)]\n",
        "\n",
        "vertices[0].adjOut.append(Arc(1, 4))\n",
        "vertices[1].adjIn.append(Arc(0, 4))\n",
        "\n",
        "vertices[0].adjOut.append(Arc(2, 6))\n",
        "vertices[2].adjIn.append(Arc(0, 6))\n",
        "\n",
        "vertices[1].adjOut.append(Arc(3, 2))\n",
        "vertices[3].adjIn.append(Arc(1, 2))\n",
        "\n",
        "vertices[1].adjOut.append(Arc(4, 1))\n",
        "vertices[4].adjIn.append(Arc(1, 1))\n",
        "\n",
        "vertices[2].adjOut.append(Arc(1, 2))\n",
        "vertices[1].adjIn.append(Arc(2, 2))\n",
        "\n",
        "vertices[2].adjOut.append(Arc(4, 2))\n",
        "vertices[4].adjIn.append(Arc(2, 2))\n",
        "\n",
        "vertices[3].adjOut.append(Arc(4, 1))\n",
        "vertices[4].adjIn.append(Arc(3, 1))\n",
        "\n",
        "vertices[3].adjOut.append(Arc(5, 3))\n",
        "vertices[5].adjIn.append(Arc(3, 3))\n",
        "\n",
        "vertices[4].adjOut.append(Arc(5, 7))\n",
        "vertices[5].adjIn.append(Arc(4, 7))"
      ],
      "metadata": {
        "id": "GtfOg1lPnmrc"
      },
      "execution_count": 32,
      "outputs": []
    },
    {
      "cell_type": "code",
      "source": [
        "def ImplementTopologicalOrdering(vertices):\n",
        "  inDegrees = [len(v.adjIn) for v in vertices]\n",
        "  topologicalOrder = [-1] * len(vertices)\n",
        "  orderCount = 0\n",
        "\n",
        "  while orderCount < len(vertices):\n",
        "    for i in range(len(inDegrees)):\n",
        "      if inDegrees[i] == 0 and vertices[i].order < 0:\n",
        "        vertices[i].order = orderCount\n",
        "        topologicalOrder[orderCount] = i\n",
        "        orderCount += 1\n",
        "\n",
        "        # update inDegrees after elimination of node i from the network\n",
        "        for l in range(len(vertices[i].adjOut)):\n",
        "          neighbor = vertices[i].adjOut[l].id\n",
        "          inDegrees[neighbor] -= 1\n",
        "\n",
        "        break\n",
        "\n",
        "\n",
        "  print(\"Topological order is \")\n",
        "  for i in range(len(topologicalOrder)):\n",
        "    print(topologicalOrder[i], end = \" \")\n",
        "\n",
        "  return topologicalOrder\n",
        "\n"
      ],
      "metadata": {
        "id": "pHQo-N0spslH"
      },
      "execution_count": 33,
      "outputs": []
    },
    {
      "cell_type": "code",
      "source": [
        "ImplementTopologicalOrdering(vertices)"
      ],
      "metadata": {
        "colab": {
          "base_uri": "https://localhost:8080/"
        },
        "id": "ue7wcUY7sDAt",
        "outputId": "e924ead5-ba01-4ced-b80e-f8c1e77c56df"
      },
      "execution_count": null,
      "outputs": [
        {
          "output_type": "stream",
          "name": "stdout",
          "text": [
            "Topological order is \n",
            "0 2 1 3 4 5 "
          ]
        },
        {
          "output_type": "execute_result",
          "data": {
            "text/plain": [
              "[0, 2, 1, 3, 4, 5]"
            ]
          },
          "metadata": {},
          "execution_count": 23
        }
      ]
    },
    {
      "cell_type": "code",
      "source": [
        "def ImplementShortestPathForDAG(vertices):\n",
        "\n",
        "      bigM = 100000\n",
        "\n",
        "      topologicalOrder = ImplementTopologicalOrdering(vertices)\n",
        "\n",
        "      # initialize distance labels\n",
        "      for l in range(len(topologicalOrder)):\n",
        "          if l == 0:\n",
        "              vertices[topologicalOrder[l]].distance = 0\n",
        "          else:\n",
        "              vertices[topologicalOrder[l]].distance = bigM\n",
        "\n",
        "      for l in range(1, len(topologicalOrder)):\n",
        "          currNode = topologicalOrder[l]\n",
        "          minDistance = bigM\n",
        "\n",
        "          for k in range(len(vertices[currNode].adjIn)):\n",
        "              inNeighbor = vertices[currNode].adjIn[k].id\n",
        "\n",
        "              currDistance = vertices[inNeighbor].distance + vertices[currNode].adjIn[k].length\n",
        "\n",
        "              if currDistance < minDistance:\n",
        "                  minDistance = currDistance\n",
        "\n",
        "                  vertices[currNode].pred = inNeighbor\n",
        "\n",
        "          vertices[currNode].distance = minDistance\n",
        "\n",
        "      print()\n",
        "      print(\"The shortest distances are \")\n",
        "\n",
        "      for i in range(len(vertices)):\n",
        "          print(vertices[i].distance, end=\" \")"
      ],
      "metadata": {
        "id": "ag-VvPqdse9K"
      },
      "execution_count": 34,
      "outputs": []
    },
    {
      "cell_type": "code",
      "source": [
        "ImplementShortestPathForDAG(vertices)"
      ],
      "metadata": {
        "id": "u44fknugtQdH",
        "colab": {
          "base_uri": "https://localhost:8080/"
        },
        "outputId": "c5d3e0ee-64f9-40a5-9c4c-6d6b379a1cae"
      },
      "execution_count": 35,
      "outputs": [
        {
          "output_type": "stream",
          "name": "stdout",
          "text": [
            "Topological order is \n",
            "0 2 1 3 4 5 \n",
            "The shortest distances are \n",
            "0 4 6 6 5 9 "
          ]
        }
      ]
    },
    {
      "cell_type": "markdown",
      "source": [],
      "metadata": {
        "id": "qXDCikRsvUvG"
      }
    }
  ]
}