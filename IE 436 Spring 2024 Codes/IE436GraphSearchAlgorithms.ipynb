{
  "nbformat": 4,
  "nbformat_minor": 0,
  "metadata": {
    "colab": {
      "provenance": []
    },
    "kernelspec": {
      "name": "python3",
      "display_name": "Python 3"
    },
    "language_info": {
      "name": "python"
    }
  },
  "cells": [
    {
      "cell_type": "code",
      "execution_count": 3,
      "metadata": {
        "colab": {
          "base_uri": "https://localhost:8080/"
        },
        "id": "kiBV8sH8IjuE",
        "outputId": "c2ad978c-d5ba-47e1-afb1-46a6b9eeb6b5"
      },
      "outputs": [
        {
          "output_type": "stream",
          "name": "stdout",
          "text": [
            "IE 436 Graph Search Algorithms\n"
          ]
        }
      ],
      "source": [
        "print(\"IE 436 Graph Search Algorithms\")"
      ]
    },
    {
      "cell_type": "code",
      "source": [
        "class Vertex:\n",
        "  id = -1\n",
        "  pred = -1\n",
        "  order = -1\n",
        "  adj = []\n",
        "  isMarked = False\n",
        "\n",
        "  def __init__(self, idIn, adjIn):\n",
        "    self.id = idIn\n",
        "    self.adj = adjIn"
      ],
      "metadata": {
        "id": "_lI9dXvzIzah"
      },
      "execution_count": 4,
      "outputs": []
    },
    {
      "cell_type": "code",
      "source": [
        "myVertex = Vertex(2, [3, 4, 5])\n",
        "print(myVertex.id)\n",
        "print(myVertex.adj)"
      ],
      "metadata": {
        "colab": {
          "base_uri": "https://localhost:8080/"
        },
        "id": "rn-kD5JfVYhL",
        "outputId": "6e7d267c-3dcf-4917-af82-700d4a233cac"
      },
      "execution_count": 5,
      "outputs": [
        {
          "output_type": "stream",
          "name": "stdout",
          "text": [
            "2\n",
            "[3, 4, 5]\n"
          ]
        }
      ]
    },
    {
      "cell_type": "code",
      "source": [
        "vertices = []\n",
        "vertices.append(Vertex(1, [2, 3]))\n",
        "vertices.append(Vertex(2, [3, 4, 5]))\n",
        "vertices.append(Vertex(3, [4]))\n",
        "vertices.append(Vertex(4, [6]))\n",
        "vertices.append(Vertex(5, [4, 6]))\n",
        "vertices.append(Vertex(6, []))\n"
      ],
      "metadata": {
        "id": "mYeqWt4XVwV5"
      },
      "execution_count": 6,
      "outputs": []
    },
    {
      "cell_type": "code",
      "source": [
        "for i in range(6):\n",
        "  print(vertices[i].adj)"
      ],
      "metadata": {
        "colab": {
          "base_uri": "https://localhost:8080/"
        },
        "id": "GD1CJOqSWX0a",
        "outputId": "11e60782-81fb-420a-8db3-1136f21d8b57"
      },
      "execution_count": 7,
      "outputs": [
        {
          "output_type": "stream",
          "name": "stdout",
          "text": [
            "[2, 3]\n",
            "[3, 4, 5]\n",
            "[4]\n",
            "[6]\n",
            "[4, 6]\n",
            "[]\n"
          ]
        }
      ]
    },
    {
      "cell_type": "code",
      "source": [
        "def ImplementSearch(vertices, s, isBFS = True):\n",
        "  n = len(vertices)\n",
        "  for i in range(n):\n",
        "    vertices[i].isMarked = False\n",
        "\n",
        "  LIST = []\n",
        "  LIST.append(s)\n",
        "  vertices[s].order = 1\n",
        "  vertices[s].isMarked = True\n",
        "  iter = 1\n",
        "\n",
        "  while len(LIST) != 0:\n",
        "    if isBFS:\n",
        "      currVertex = LIST[0]\n",
        "    else:\n",
        "      currVertex = LIST[-1]\n",
        "\n",
        "    isAdmissible = False\n",
        "\n",
        "    for i in range(len(vertices[currVertex].adj)):\n",
        "      currNeighbor = vertices[currVertex].adj[i] - 1\n",
        "\n",
        "      if not vertices[currNeighbor].isMarked:\n",
        "        vertices[currNeighbor].isMarked = True\n",
        "        vertices[currNeighbor].pred = currVertex\n",
        "        iter = iter + 1\n",
        "        vertices[currNeighbor].order = iter\n",
        "        LIST.append(currNeighbor)\n",
        "        isAdmissible = True\n",
        "        break\n",
        "\n",
        "    if not isAdmissible:\n",
        "      if isBFS:\n",
        "        del LIST[0]\n",
        "      else:\n",
        "        del LIST[-1]\n",
        "\n",
        "\n",
        "  print()\n",
        "  if isBFS:\n",
        "    print(\"The BFS output is \")\n",
        "  else:\n",
        "    print(\"The DFS output is \")\n",
        "\n",
        "  for i in range(n):\n",
        "    print(f\"The (order, pred) of vertex {i+1} is ({vertices[i].order, vertices[i].pred + 1})\")\n"
      ],
      "metadata": {
        "id": "GUhbEgNoWh-A"
      },
      "execution_count": 11,
      "outputs": []
    },
    {
      "cell_type": "code",
      "source": [
        "ImplementSearch(vertices, 0, True)"
      ],
      "metadata": {
        "colab": {
          "base_uri": "https://localhost:8080/"
        },
        "id": "z8l1P78caLyc",
        "outputId": "c9affec5-8648-4a0b-d2d6-441937cbe7b4"
      },
      "execution_count": 13,
      "outputs": [
        {
          "output_type": "stream",
          "name": "stdout",
          "text": [
            "\n",
            "The BFS output is \n",
            "The (order, pred) of vertex 1 is ((1, 0))\n",
            "The (order, pred) of vertex 2 is ((2, 1))\n",
            "The (order, pred) of vertex 3 is ((3, 1))\n",
            "The (order, pred) of vertex 4 is ((4, 2))\n",
            "The (order, pred) of vertex 5 is ((5, 2))\n",
            "The (order, pred) of vertex 6 is ((6, 4))\n"
          ]
        }
      ]
    }
  ]
}